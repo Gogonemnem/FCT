{
 "cells": [
  {
   "cell_type": "code",
   "execution_count": 5,
   "metadata": {},
   "outputs": [],
   "source": [
    "model_name = \"pvt_v2_b2_li\"\n",
    "# model_name =\"pvt_v2_b1.pth\"\n",
    "# model_name =\"pvt_v2_b0.pth\"\n",
    "# model_name =\"pvt_v2_b2.pth\"\n",
    "# model_name =\"pvt_v2_b3.pth\""
   ]
  },
  {
   "cell_type": "code",
   "execution_count": 6,
   "metadata": {},
   "outputs": [],
   "source": [
    "import timm, torch\n",
    "model_timm = timm.create_model(model_name, pretrained=True)\n",
    "#save the weights \n",
    "torch.save(model_timm.state_dict(), f\"weights/{model_name}.pth\")"
   ]
  },
  {
   "cell_type": "code",
   "execution_count": null,
   "metadata": {},
   "outputs": [],
   "source": []
  }
 ],
 "metadata": {
  "kernelspec": {
   "display_name": "fct",
   "language": "python",
   "name": "python3"
  },
  "language_info": {
   "codemirror_mode": {
    "name": "ipython",
    "version": 3
   },
   "file_extension": ".py",
   "mimetype": "text/x-python",
   "name": "python",
   "nbconvert_exporter": "python",
   "pygments_lexer": "ipython3",
   "version": "3.11.8"
  }
 },
 "nbformat": 4,
 "nbformat_minor": 2
}
